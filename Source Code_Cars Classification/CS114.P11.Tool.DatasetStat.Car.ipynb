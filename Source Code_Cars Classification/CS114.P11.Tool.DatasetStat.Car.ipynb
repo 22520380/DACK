{
 "cells": [
  {
   "cell_type": "markdown",
   "metadata": {
    "id": "kXLvTDMGbDjG"
   },
   "source": [
    "# THỐNG KÊ DỮ LIỆU\n",
    "\n",
    "1. Yêu cầu chung: Thống kê được số lượng ảnh trong từng phân loại mà mỗi SV đóng góp\n",
    "\n",
    "2. Yêu cầu cụ thể:\n",
    "- Input:\n",
    "    + Thư mục cha chứa các thư mục con - mỗi thư mục con tương ứng với tên của từng hiệu xe (Honda, Suzuki, VinFast, Others). Ví dụ: https://drive.google.com/drive/u/1/folders/1Uj0V9URNHpzSHeXHSB89AoGCjGki8Yra\n",
    "    + Các ảnh được đặt tên theo quy ước: các tập tin ảnh theo quy ước https://colab.research.google.com/drive/1bUmXMM_ggnEXKo2qylfe6h0JnQuos-8_\n",
    "- Output:\n",
    "    + File CarDataset-1.csv - Thống kê số lượng ảnh theo từng SV\n",
    "      + Mỗi dòng sẽ có các thông tin cách nhau bằng dấu phẩy, theo quy ước: MSSV, All, Số lượng.\n",
    "        \n",
    "        Ví dụ: 20221234, All, 1.2\n",
    "      + Số lượng có thể là số thực vì một ảnh có thể có đóng góp từ nhiều sinh viên\n",
    "    + File CarDataset-2.csv - Thống kê số lượng ảnh theo từng Hiệu xe mà từng SV đóng góp\n",
    "      + Mỗi dòng sẽ có các thông tin cách nhau bằng dấu phẩy, theo quy ước: MSSV, Hiệu xe, Số lượng.\n",
    "        \n",
    "        Ví dụ: 20221234, Honda, 1.2\n",
    "      + Số lượng có thể là số thực vì một ảnh có thể có đóng góp từ nhiều sinh viên\n",
    "      + Chỉ chấp nhận file .jpg, .jpeg và .png\n",
    "3. Nộp bài: SV share notebook. Các bài nộp sớm sẽ được full điểm. Deadline: 17:00 - ??/??/2024\n",
    "\n",
    "4. Bài làm đạt yêu cầu sẽ được paste vào notebook với ghi nhận đóng góp từ tác giả.\n"
   ]
  },
  {
   "cell_type": "code",
   "execution_count": 1,
   "metadata": {},
   "outputs": [],
   "source": [
    "import os\n",
    "import csv\n",
    "from collections import defaultdict"
   ]
  },
  {
   "cell_type": "code",
   "execution_count": 2,
   "metadata": {},
   "outputs": [],
   "source": [
    "def extract_info(file_name):\n",
    "    \"\"\"\n",
    "    Trích xuất thông tin từ tên tệp.\n",
    "    \n",
    "    Args:\n",
    "        file_name (str): Tên tệp (file) ảnh.\n",
    "\n",
    "    Returns:\n",
    "        tuple: Bao gồm danh sách MSSV, thương hiệu xe (brand), và chỉ số đóng góp (contribution index).\n",
    "    \"\"\"\n",
    "    try:\n",
    "        parts = file_name.split('.')\n",
    "        if len(parts) < 3:\n",
    "            return None, None, None\n",
    "\n",
    "        mssv_part, brand, _ = parts[0], parts[1], parts[2]\n",
    "        mssvs = mssv_part.split('-') \n",
    "        return mssvs, brand, 1 / len(mssvs)  \n",
    "    except Exception:\n",
    "        return None, None, None"
   ]
  },
  {
   "cell_type": "code",
   "execution_count": 3,
   "metadata": {},
   "outputs": [],
   "source": [
    "def process_images(parent_folder):\n",
    "    \"\"\"\n",
    "    Xử lý thư mục chứa ảnh và tính toán đóng góp của từng sinh viên.\n",
    "\n",
    "    Args:\n",
    "        parent_folder (str): Đường dẫn tới thư mục cha chứa các thư mục ảnh theo thương hiệu.\n",
    "\n",
    "    Returns:\n",
    "        tuple:\n",
    "            - contributions_by_student (dict): Tổng số lượng ảnh đóng góp bởi từng MSSV.\n",
    "            - contributions_by_student_and_brand (dict): Số lượng ảnh đóng góp theo MSSV và thương hiệu xe.\n",
    "    \"\"\"\n",
    "    contributions_by_student = defaultdict(float)\n",
    "    \n",
    "    contributions_by_student_and_brand = defaultdict(lambda: defaultdict(float))\n",
    "\n",
    "    valid_extensions = {\".jpg\", \".jpeg\", \".png\"}\n",
    "\n",
    "    for brand_folder in os.listdir(parent_folder):\n",
    "        brand_path = os.path.join(parent_folder, brand_folder)  \n",
    "        if not os.path.isdir(brand_path):\n",
    "            continue \n",
    "\n",
    "        for file_name in os.listdir(brand_path):\n",
    "            if not any(file_name.lower().endswith(ext) for ext in valid_extensions):\n",
    "                continue  \n",
    "            mssvs, brand, contribution = extract_info(file_name)\n",
    "            if not mssvs or not brand:\n",
    "                continue\n",
    "\n",
    "            for mssv in mssvs:\n",
    "                contributions_by_student[mssv] += contribution \n",
    "                contributions_by_student_and_brand[mssv][brand] += contribution \n",
    "\n",
    "    return contributions_by_student, contributions_by_student_and_brand"
   ]
  },
  {
   "cell_type": "code",
   "execution_count": 4,
   "metadata": {},
   "outputs": [],
   "source": [
    "def save_to_csv(file_path, data, headers):\n",
    "    \"\"\"\n",
    "    Lưu dữ liệu vào tệp CSV.\n",
    "\n",
    "    Args:\n",
    "        file_path (str): Đường dẫn lưu tệp CSV.\n",
    "        data (list): Dữ liệu cần lưu, dạng danh sách các hàng.\n",
    "        headers (list): Danh sách các tiêu đề cột.\n",
    "    \"\"\"\n",
    "    with open(file_path, mode='w', newline='', encoding='utf-8') as file:\n",
    "        writer = csv.writer(file)\n",
    "        writer.writerow(headers)  \n",
    "        writer.writerows(data)  "
   ]
  },
  {
   "cell_type": "code",
   "execution_count": 5,
   "metadata": {},
   "outputs": [],
   "source": [
    "def main():\n",
    "    \"\"\"\n",
    "    Hàm chính để xử lý toàn bộ quy trình:\n",
    "    - Tính toán đóng góp của sinh viên từ ảnh.\n",
    "    - Lưu dữ liệu vào các tệp CSV.\n",
    "    \"\"\"\n",
    "    \n",
    "    parent_folder = r\"D:\\ML\\Public\"  \n",
    "\n",
    "    contributions_by_student, contributions_by_student_and_brand = process_images(parent_folder)\n",
    "\n",
    "    dataset1 = [(mssv, \"All\", round(total, 2)) for mssv, total in contributions_by_student.items()]\n",
    "    save_to_csv(\"CarDataset-1.csv\", dataset1, [\"MSSV\", \"All\", \"Quantity\"])\n",
    "\n",
    "    dataset2 = [\n",
    "        (mssv, brand, round(quantity, 2))\n",
    "        for mssv, brands in contributions_by_student_and_brand.items()\n",
    "        for brand, quantity in brands.items()\n",
    "    ]\n",
    "    save_to_csv(\"CarDataset-2.csv\", dataset2, [\"MSSV\", \"Brand\", \"Quantity\"])\n",
    "\n",
    "if __name__ == \"__main__\":\n",
    "    main()"
   ]
  }
 ],
 "metadata": {
  "colab": {
   "provenance": []
  },
  "kernelspec": {
   "display_name": "Python 3",
   "name": "python3"
  },
  "language_info": {
   "codemirror_mode": {
    "name": "ipython",
    "version": 3
   },
   "file_extension": ".py",
   "mimetype": "text/x-python",
   "name": "python",
   "nbconvert_exporter": "python",
   "pygments_lexer": "ipython3",
   "version": "3.12.8"
  }
 },
 "nbformat": 4,
 "nbformat_minor": 0
}
